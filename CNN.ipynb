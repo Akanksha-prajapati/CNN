{
  "nbformat": 4,
  "nbformat_minor": 0,
  "metadata": {
    "colab": {
      "provenance": [],
      "authorship_tag": "ABX9TyPoj5zq585c2IVRRHysf+6G",
      "include_colab_link": true
    },
    "kernelspec": {
      "name": "python3",
      "display_name": "Python 3"
    },
    "language_info": {
      "name": "python"
    }
  },
  "cells": [
    {
      "cell_type": "markdown",
      "metadata": {
        "id": "view-in-github",
        "colab_type": "text"
      },
      "source": [
        "<a href=\"https://colab.research.google.com/github/Akanksha-prajapati/CNN/blob/main/CNN.ipynb\" target=\"_parent\"><img src=\"https://colab.research.google.com/assets/colab-badge.svg\" alt=\"Open In Colab\"/></a>"
      ]
    },
    {
      "cell_type": "code",
      "execution_count": null,
      "metadata": {
        "id": "rI1SVmGWjXM0"
      },
      "outputs": [],
      "source": [
        "#1. Implement a basic convolution operation using a filter and a 5x5 image (matrix)\n",
        "\n",
        "#code...\n",
        "import numpy as np\n",
        "\n",
        "# Define a 5x5 image (matrix)\n",
        "image = np.array([\n",
        "    [1, 2, 3, 4, 5],\n",
        "    [6, 7, 8, 9, 10],\n",
        "    [11, 12, 13, 14, 15],\n",
        "    [16, 17, 18, 19, 20],\n",
        "    [21, 22, 23, 24, 25]\n",
        "])\n",
        "\n",
        "# Define a 3x3 filter (kernel)\n",
        "filter = np.array([\n",
        "    [0, 1, 0],\n",
        "    [1, 1, 1],\n",
        "    [0, 1, 0]\n",
        "])\n",
        "\n",
        "# Perform convolution (without padding, stride 1)\n",
        "output = np.zeros((3, 3))\n",
        "for i in range(3):\n",
        "    for j in range(3):\n",
        "        output[i, j] = np.sum(image[i:i+3, j:j+3] * filter)\n",
        "\n",
        "print(\"Convolution Output:\\n\", output)\n"
      ]
    },
    {
      "cell_type": "code",
      "source": [
        "#2. Implement max pooling on a 4x4 feature map with a 2x2 window.\n",
        "\n",
        "# code ..\n",
        "# Define a 4x4 feature map\n",
        "feature_map = np.array([\n",
        "    [1, 2, 3, 4],\n",
        "    [5, 6, 7, 8],\n",
        "    [9, 10, 11, 12],\n",
        "    [13, 14, 15, 16]\n",
        "])\n",
        "\n",
        "# Max pooling with 2x2 window and stride 2\n",
        "pooling_output = np.zeros((2, 2))\n",
        "for i in range(0, 4, 2):\n",
        "    for j in range(0, 4, 2):\n",
        "        pooling_output[i//2, j//2] = np.max(feature_map[i:i+2, j:j+2])\n",
        "\n",
        "print(\"Max Pooling Output:\\n\", pooling_output)\n"
      ],
      "metadata": {
        "id": "t5poyPeOjq0f"
      },
      "execution_count": null,
      "outputs": []
    },
    {
      "cell_type": "code",
      "source": [
        "#3. Implement the ReLU activation function on a feature map\n",
        "\n",
        "#code ...\n",
        "def relu(x):\n",
        "    return np.maximum(0, x)\n",
        "\n",
        "# Define a feature map\n",
        "feature_map = np.array([\n",
        "    [-1, -2, 3],\n",
        "    [4, -5, 6],\n",
        "    [-7, 8, 9]\n",
        "])\n",
        "\n",
        "# Apply ReLU\n",
        "relu_output = relu(feature_map)\n",
        "\n",
        "print(\"ReLU Activation Output:\\n\", relu_output)\n"
      ],
      "metadata": {
        "id": "GlCy_wmbj1S0"
      },
      "execution_count": null,
      "outputs": []
    },
    {
      "cell_type": "code",
      "source": [
        "#4. Create a simple CNN model with one convolutional layer and a fully connected layer, using random data\n",
        "\n",
        "#code ...\n",
        "\n",
        "import tensorflow as tf\n",
        "from tensorflow.keras.models import Sequential\n",
        "from tensorflow.keras.layers import Conv2D, Flatten, Dense\n",
        "\n",
        "# Create a simple CNN model\n",
        "model = Sequential([\n",
        "    Conv2D(32, (3, 3), activation='relu', input_shape=(28, 28, 1)),  # Convolutional layer\n",
        "    Flatten(),  # Flatten the 2D output to 1D\n",
        "    Dense(10, activation='softmax')  # Fully connected layer\n",
        "])\n",
        "\n",
        "# Print model summary\n",
        "model.summary()\n"
      ],
      "metadata": {
        "id": "20WaWfANj-zG"
      },
      "execution_count": null,
      "outputs": []
    },
    {
      "cell_type": "code",
      "source": [
        "#5. Generate a synthetic dataset using random noise and train a simple CNN model on it\n",
        "\n",
        "#code...\n",
        "\n",
        "# Create synthetic random data (100 samples, 28x28 images, 1 channel)\n",
        "x_train = np.random.random((100, 28, 28, 1))\n",
        "y_train = np.random.randint(10, size=(100,))\n",
        "\n",
        "# Define the model as before\n",
        "model = Sequential([\n",
        "    Conv2D(32, (3, 3), activation='relu', input_shape=(28, 28, 1)),\n",
        "    Flatten(),\n",
        "    Dense(10, activation='softmax')\n",
        "])\n",
        "\n",
        "# Compile the model\n",
        "model.compile(optimizer='adam', loss='sparse_categorical_crossentropy', metrics=['accuracy'])\n",
        "\n",
        "# Train the model\n",
        "model.fit(x_train, y_train, epochs=5)\n"
      ],
      "metadata": {
        "id": "jcK7lvJKkUSD"
      },
      "execution_count": null,
      "outputs": []
    },
    {
      "cell_type": "code",
      "source": [
        "# 6. Create a simple CNN using Keras with one convolution layer and a max-pooling layer\n",
        "\n",
        "#code...\n",
        "\n",
        "# Define a simple CNN model with one convolutional layer and max-pooling\n",
        "model = Sequential([\n",
        "    Conv2D(32, (3, 3), activation='relu', input_shape=(28, 28, 1)),\n",
        "    MaxPooling2D(pool_size=(2, 2)),\n",
        "    Flatten(),\n",
        "    Dense(10, activation='softmax')\n",
        "])\n",
        "\n",
        "# Print model summary\n",
        "model.summary()\n"
      ],
      "metadata": {
        "id": "lVnSHvoWkeWV"
      },
      "execution_count": null,
      "outputs": []
    },
    {
      "cell_type": "code",
      "source": [
        "#7. Write a code to add a fully connected layer after the convolution and max-pooling layers in a CNN\n",
        "\n",
        "#code...\n",
        "\n",
        "from tensorflow.keras.layers import MaxPooling2D\n",
        "\n",
        "# Define a simple CNN model with fully connected layer after convolution and max-pooling\n",
        "model = Sequential([\n",
        "    Conv2D(32, (3, 3), activation='relu', input_shape=(28, 28, 1)),\n",
        "    MaxPooling2D(pool_size=(2, 2)),\n",
        "    Flatten(),\n",
        "    Dense(64, activation='relu'),  # Fully connected layer\n",
        "    Dense(10, activation='softmax')  # Output layer\n",
        "])\n",
        "\n",
        "# Print model summary\n",
        "model.summary()\n"
      ],
      "metadata": {
        "id": "jqDZ7WNWkrow"
      },
      "execution_count": null,
      "outputs": []
    },
    {
      "cell_type": "code",
      "source": [
        "#8. Write a code to add batch normalization to a simple CNN model\n",
        "\n",
        "#code...\n",
        "\n",
        "from tensorflow.keras.layers import BatchNormalization\n",
        "\n",
        "# Define a CNN model with batch normalization\n",
        "model = Sequential([\n",
        "    Conv2D(32, (3, 3), activation='relu', input_shape=(28, 28, 1)),\n",
        "    BatchNormalization(),  # Add batch normalization\n",
        "    MaxPooling2D(pool_size=(2, 2)),\n",
        "    Flatten(),\n",
        "    Dense(10, activation='softmax')\n",
        "])\n",
        "\n",
        "# Print model summary\n",
        "model.summary()\n"
      ],
      "metadata": {
        "id": "EpEJCToPk0dT"
      },
      "execution_count": null,
      "outputs": []
    },
    {
      "cell_type": "code",
      "source": [
        "#9. Write a code to add dropout regularization to a simple CNN model\n",
        "\n",
        "#code...\n",
        "from tensorflow.keras.layers import Dropout\n",
        "\n",
        "# Define a CNN model with dropout regularization\n",
        "model = Sequential([\n",
        "    Conv2D(32, (3, 3), activation='relu', input_shape=(28, 28, 1)),\n",
        "    MaxPooling2D(pool_size=(2, 2)),\n",
        "    Flatten(),\n",
        "    Dropout(0.5),  # Dropout regularization\n",
        "    Dense(10, activation='softmax')\n",
        "])\n",
        "\n",
        "# Print model summary\n",
        "model.summary()\n"
      ],
      "metadata": {
        "id": "wm-r_Yy4k-2-"
      },
      "execution_count": null,
      "outputs": []
    },
    {
      "cell_type": "code",
      "source": [
        "#10. Write a code to print the architecture of the VGG16 model in Keras\n",
        "\n",
        "\n",
        "#code...\n",
        "\n",
        "from tensorflow.keras.applications import VGG16\n",
        "\n",
        "# Load the VGG16 model (pre-trained on ImageNet)\n",
        "vgg16_model = VGG16(weights='imagenet', input_shape=(224, 224, 3))\n",
        "\n",
        "# Print model summary\n",
        "vgg16_model.summary()\n",
        "\n"
      ],
      "metadata": {
        "id": "KF2u-hbTlIt2"
      },
      "execution_count": null,
      "outputs": []
    },
    {
      "cell_type": "code",
      "source": [
        "#11. Write a code to plot the accuracy and loss graphs after training a CNN model\n",
        "\n",
        "#code...\n",
        "\n",
        "import matplotlib.pyplot as plt\n",
        "\n",
        "# Assuming 'history' is the output of model.fit() during training\n",
        "history = model.fit(x_train, y_train, epochs=5)\n",
        "\n",
        "# Plot accuracy and loss\n",
        "plt.figure(figsize=(12, 6))\n",
        "\n",
        "# Accuracy plot\n",
        "plt.subplot(1, 2, 1)\n",
        "plt.plot(history.history['accuracy'])\n",
        "plt.title('Accuracy')\n",
        "plt.xlabel('Epochs')\n",
        "plt.ylabel('Accuracy')\n",
        "\n",
        "# Loss plot\n",
        "plt.subplot(1, 2, 2)\n",
        "plt.plot(history.history['loss'])\n",
        "plt.title('Loss')\n",
        "plt.xlabel('Epochs')\n",
        "plt.ylabel('Loss')\n",
        "\n",
        "plt.show()\n"
      ],
      "metadata": {
        "id": "PIE5ZY4alTcU"
      },
      "execution_count": null,
      "outputs": []
    },
    {
      "cell_type": "code",
      "source": [
        "#12. Write a code to print the architecture of the ResNet50 model in Keras\n",
        "\n",
        "#code...\n",
        "\n",
        "from tensorflow.keras.applications import ResNet50\n",
        "\n",
        "# Load the ResNet50 model (pre-trained on ImageNet)\n",
        "resnet50_model = ResNet50(weights='imagenet', input_shape=(224, 224, 3))\n",
        "\n",
        "# Print model summary\n",
        "resnet50_model.summary()\n"
      ],
      "metadata": {
        "id": "RWqPb1fnleJL"
      },
      "execution_count": null,
      "outputs": []
    },
    {
      "cell_type": "code",
      "source": [
        "#13. Write a code to train a basic CNN model and print the training loss and accuracy after each epoch\n",
        "\n",
        "\n",
        "#code ....\n",
        "# Define a basic CNN model\n",
        "model = Sequential([\n",
        "    Conv2D(32, (3, 3), activation='relu', input_shape=(28, 28, 1)),\n",
        "    Flatten(),\n",
        "    Dense(10, activation='softmax')\n",
        "])\n",
        "\n",
        "# Compile the model\n",
        "model.compile(optimizer='adam', loss='sparse_categorical_crossentropy', metrics=['accuracy'])\n",
        "\n",
        "# Train the model and print loss and accuracy after each epoch\n",
        "history = model.fit(x_train, y_train, epochs=5, verbose=1)\n",
        "\n",
        "# Print the training loss and accuracy after each epoch\n",
        "for epoch in range(5):\n",
        "    print(f\"Epoch {epoch+1}: Loss = {history.history['loss'][epoch]}, Accuracy = {history.history['accuracy'][epoch]}\")\n",
        "\n"
      ],
      "metadata": {
        "id": "7JGCykeTluCl"
      },
      "execution_count": null,
      "outputs": []
    }
  ]
}